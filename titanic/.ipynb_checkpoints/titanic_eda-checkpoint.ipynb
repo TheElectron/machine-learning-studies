{
 "cells": [
  {
   "cell_type": "code",
   "execution_count": 21,
   "id": "fd3788a4",
   "metadata": {},
   "outputs": [],
   "source": [
    "import random\n",
    "import numpy as np\n",
    "import pandas as pd\n",
    "import seaborn as sns\n",
    "import matplotlib.pyplot as plt\n",
    "\n",
    "import warnings\n",
    "warnings.filterwarnings('ignore')\n",
    "\n",
    "SEED = 42"
   ]
  },
  {
   "cell_type": "code",
   "execution_count": 2,
   "id": "3261224c",
   "metadata": {},
   "outputs": [],
   "source": [
    "# Changing Seaborn Theme To Dark\n",
    "sns.set(style=\"darkgrid\")"
   ]
  },
  {
   "cell_type": "code",
   "execution_count": 3,
   "id": "b3fd2e46",
   "metadata": {},
   "outputs": [
    {
     "data": {
      "text/html": [
       "<div>\n",
       "<style scoped>\n",
       "    .dataframe tbody tr th:only-of-type {\n",
       "        vertical-align: middle;\n",
       "    }\n",
       "\n",
       "    .dataframe tbody tr th {\n",
       "        vertical-align: top;\n",
       "    }\n",
       "\n",
       "    .dataframe thead th {\n",
       "        text-align: right;\n",
       "    }\n",
       "</style>\n",
       "<table border=\"1\" class=\"dataframe\">\n",
       "  <thead>\n",
       "    <tr style=\"text-align: right;\">\n",
       "      <th></th>\n",
       "      <th>PassengerId</th>\n",
       "      <th>Survived</th>\n",
       "      <th>Pclass</th>\n",
       "      <th>Name</th>\n",
       "      <th>Sex</th>\n",
       "      <th>Age</th>\n",
       "      <th>SibSp</th>\n",
       "      <th>Parch</th>\n",
       "      <th>Ticket</th>\n",
       "      <th>Fare</th>\n",
       "      <th>Cabin</th>\n",
       "      <th>Embarked</th>\n",
       "    </tr>\n",
       "  </thead>\n",
       "  <tbody>\n",
       "    <tr>\n",
       "      <th>0</th>\n",
       "      <td>1</td>\n",
       "      <td>0</td>\n",
       "      <td>3</td>\n",
       "      <td>Braund, Mr. Owen Harris</td>\n",
       "      <td>male</td>\n",
       "      <td>22.0</td>\n",
       "      <td>1</td>\n",
       "      <td>0</td>\n",
       "      <td>A/5 21171</td>\n",
       "      <td>7.2500</td>\n",
       "      <td>NaN</td>\n",
       "      <td>S</td>\n",
       "    </tr>\n",
       "    <tr>\n",
       "      <th>1</th>\n",
       "      <td>2</td>\n",
       "      <td>1</td>\n",
       "      <td>1</td>\n",
       "      <td>Cumings, Mrs. John Bradley (Florence Briggs Th...</td>\n",
       "      <td>female</td>\n",
       "      <td>38.0</td>\n",
       "      <td>1</td>\n",
       "      <td>0</td>\n",
       "      <td>PC 17599</td>\n",
       "      <td>71.2833</td>\n",
       "      <td>C85</td>\n",
       "      <td>C</td>\n",
       "    </tr>\n",
       "    <tr>\n",
       "      <th>2</th>\n",
       "      <td>3</td>\n",
       "      <td>1</td>\n",
       "      <td>3</td>\n",
       "      <td>Heikkinen, Miss. Laina</td>\n",
       "      <td>female</td>\n",
       "      <td>26.0</td>\n",
       "      <td>0</td>\n",
       "      <td>0</td>\n",
       "      <td>STON/O2. 3101282</td>\n",
       "      <td>7.9250</td>\n",
       "      <td>NaN</td>\n",
       "      <td>S</td>\n",
       "    </tr>\n",
       "    <tr>\n",
       "      <th>3</th>\n",
       "      <td>4</td>\n",
       "      <td>1</td>\n",
       "      <td>1</td>\n",
       "      <td>Futrelle, Mrs. Jacques Heath (Lily May Peel)</td>\n",
       "      <td>female</td>\n",
       "      <td>35.0</td>\n",
       "      <td>1</td>\n",
       "      <td>0</td>\n",
       "      <td>113803</td>\n",
       "      <td>53.1000</td>\n",
       "      <td>C123</td>\n",
       "      <td>S</td>\n",
       "    </tr>\n",
       "    <tr>\n",
       "      <th>4</th>\n",
       "      <td>5</td>\n",
       "      <td>0</td>\n",
       "      <td>3</td>\n",
       "      <td>Allen, Mr. William Henry</td>\n",
       "      <td>male</td>\n",
       "      <td>35.0</td>\n",
       "      <td>0</td>\n",
       "      <td>0</td>\n",
       "      <td>373450</td>\n",
       "      <td>8.0500</td>\n",
       "      <td>NaN</td>\n",
       "      <td>S</td>\n",
       "    </tr>\n",
       "    <tr>\n",
       "      <th>5</th>\n",
       "      <td>6</td>\n",
       "      <td>0</td>\n",
       "      <td>3</td>\n",
       "      <td>Moran, Mr. James</td>\n",
       "      <td>male</td>\n",
       "      <td>NaN</td>\n",
       "      <td>0</td>\n",
       "      <td>0</td>\n",
       "      <td>330877</td>\n",
       "      <td>8.4583</td>\n",
       "      <td>NaN</td>\n",
       "      <td>Q</td>\n",
       "    </tr>\n",
       "    <tr>\n",
       "      <th>6</th>\n",
       "      <td>7</td>\n",
       "      <td>0</td>\n",
       "      <td>1</td>\n",
       "      <td>McCarthy, Mr. Timothy J</td>\n",
       "      <td>male</td>\n",
       "      <td>54.0</td>\n",
       "      <td>0</td>\n",
       "      <td>0</td>\n",
       "      <td>17463</td>\n",
       "      <td>51.8625</td>\n",
       "      <td>E46</td>\n",
       "      <td>S</td>\n",
       "    </tr>\n",
       "    <tr>\n",
       "      <th>7</th>\n",
       "      <td>8</td>\n",
       "      <td>0</td>\n",
       "      <td>3</td>\n",
       "      <td>Palsson, Master. Gosta Leonard</td>\n",
       "      <td>male</td>\n",
       "      <td>2.0</td>\n",
       "      <td>3</td>\n",
       "      <td>1</td>\n",
       "      <td>349909</td>\n",
       "      <td>21.0750</td>\n",
       "      <td>NaN</td>\n",
       "      <td>S</td>\n",
       "    </tr>\n",
       "    <tr>\n",
       "      <th>8</th>\n",
       "      <td>9</td>\n",
       "      <td>1</td>\n",
       "      <td>3</td>\n",
       "      <td>Johnson, Mrs. Oscar W (Elisabeth Vilhelmina Berg)</td>\n",
       "      <td>female</td>\n",
       "      <td>27.0</td>\n",
       "      <td>0</td>\n",
       "      <td>2</td>\n",
       "      <td>347742</td>\n",
       "      <td>11.1333</td>\n",
       "      <td>NaN</td>\n",
       "      <td>S</td>\n",
       "    </tr>\n",
       "    <tr>\n",
       "      <th>9</th>\n",
       "      <td>10</td>\n",
       "      <td>1</td>\n",
       "      <td>2</td>\n",
       "      <td>Nasser, Mrs. Nicholas (Adele Achem)</td>\n",
       "      <td>female</td>\n",
       "      <td>14.0</td>\n",
       "      <td>1</td>\n",
       "      <td>0</td>\n",
       "      <td>237736</td>\n",
       "      <td>30.0708</td>\n",
       "      <td>NaN</td>\n",
       "      <td>C</td>\n",
       "    </tr>\n",
       "  </tbody>\n",
       "</table>\n",
       "</div>"
      ],
      "text/plain": [
       "   PassengerId  Survived  Pclass  \\\n",
       "0            1         0       3   \n",
       "1            2         1       1   \n",
       "2            3         1       3   \n",
       "3            4         1       1   \n",
       "4            5         0       3   \n",
       "5            6         0       3   \n",
       "6            7         0       1   \n",
       "7            8         0       3   \n",
       "8            9         1       3   \n",
       "9           10         1       2   \n",
       "\n",
       "                                                Name     Sex   Age  SibSp  \\\n",
       "0                            Braund, Mr. Owen Harris    male  22.0      1   \n",
       "1  Cumings, Mrs. John Bradley (Florence Briggs Th...  female  38.0      1   \n",
       "2                             Heikkinen, Miss. Laina  female  26.0      0   \n",
       "3       Futrelle, Mrs. Jacques Heath (Lily May Peel)  female  35.0      1   \n",
       "4                           Allen, Mr. William Henry    male  35.0      0   \n",
       "5                                   Moran, Mr. James    male   NaN      0   \n",
       "6                            McCarthy, Mr. Timothy J    male  54.0      0   \n",
       "7                     Palsson, Master. Gosta Leonard    male   2.0      3   \n",
       "8  Johnson, Mrs. Oscar W (Elisabeth Vilhelmina Berg)  female  27.0      0   \n",
       "9                Nasser, Mrs. Nicholas (Adele Achem)  female  14.0      1   \n",
       "\n",
       "   Parch            Ticket     Fare Cabin Embarked  \n",
       "0      0         A/5 21171   7.2500   NaN        S  \n",
       "1      0          PC 17599  71.2833   C85        C  \n",
       "2      0  STON/O2. 3101282   7.9250   NaN        S  \n",
       "3      0            113803  53.1000  C123        S  \n",
       "4      0            373450   8.0500   NaN        S  \n",
       "5      0            330877   8.4583   NaN        Q  \n",
       "6      0             17463  51.8625   E46        S  \n",
       "7      1            349909  21.0750   NaN        S  \n",
       "8      2            347742  11.1333   NaN        S  \n",
       "9      0            237736  30.0708   NaN        C  "
      ]
     },
     "execution_count": 3,
     "metadata": {},
     "output_type": "execute_result"
    }
   ],
   "source": [
    "# Read CSV Files\n",
    "train_data_raw = pd.read_csv(\"./data/train.csv\")\n",
    "test_data_raw = pd.read_csv(\"./data/test.csv\")\n",
    "train_data_raw.head(10)"
   ]
  },
  {
   "cell_type": "markdown",
   "id": "da652461",
   "metadata": {},
   "source": [
    "# Exploratory Data Analysis (EDA)"
   ]
  },
  {
   "cell_type": "markdown",
   "id": "0974035f",
   "metadata": {},
   "source": [
    "## Missing Values\n",
    "\n",
    "Com as função **.display_missing_values()**, podemos observar os valores ausentes em cada conjunto."
   ]
  },
  {
   "cell_type": "code",
   "execution_count": 4,
   "id": "f62c3375",
   "metadata": {},
   "outputs": [],
   "source": [
    "def display_missing_values(data):    \n",
    "    for column in data.columns:          \n",
    "        print(f\"{column.capitalize()} - Missing values: {data[column].isnull().sum()}\")"
   ]
  },
  {
   "cell_type": "code",
   "execution_count": 5,
   "id": "123be82e",
   "metadata": {},
   "outputs": [
    {
     "name": "stdout",
     "output_type": "stream",
     "text": [
      "Passengerid - Missing values: 0\n",
      "Survived - Missing values: 0\n",
      "Pclass - Missing values: 0\n",
      "Name - Missing values: 0\n",
      "Sex - Missing values: 0\n",
      "Age - Missing values: 177\n",
      "Sibsp - Missing values: 0\n",
      "Parch - Missing values: 0\n",
      "Ticket - Missing values: 0\n",
      "Fare - Missing values: 0\n",
      "Cabin - Missing values: 687\n",
      "Embarked - Missing values: 2\n"
     ]
    }
   ],
   "source": [
    "# Training Set\n",
    "display_missing_values(train_data_raw)"
   ]
  },
  {
   "cell_type": "markdown",
   "id": "e0e4276f",
   "metadata": {},
   "source": [
    "* O conjunto de treinamento possui valores ausentes nas colunas: **Age**, **Cabin** e **Embarked** "
   ]
  },
  {
   "cell_type": "code",
   "execution_count": 6,
   "id": "83d882cf",
   "metadata": {},
   "outputs": [
    {
     "name": "stdout",
     "output_type": "stream",
     "text": [
      "Passengerid - Missing values: 0\n",
      "Pclass - Missing values: 0\n",
      "Name - Missing values: 0\n",
      "Sex - Missing values: 0\n",
      "Age - Missing values: 86\n",
      "Sibsp - Missing values: 0\n",
      "Parch - Missing values: 0\n",
      "Ticket - Missing values: 0\n",
      "Fare - Missing values: 1\n",
      "Cabin - Missing values: 327\n",
      "Embarked - Missing values: 0\n"
     ]
    }
   ],
   "source": [
    "# Test Set\n",
    "display_missing_values(test_data_raw)"
   ]
  },
  {
   "cell_type": "markdown",
   "id": "80c01f09",
   "metadata": {},
   "source": [
    "* O conjunto de teste possui valores ausentes nas colunas:  **Age**, **Fare** e **Cabin**\n",
    "\n",
    "Podemos lidar com os valores ausentes de diferentes formas. \n",
    "O método mais simples e radical consiste em remover todos os passageiros que possuam valores ausentes. No entanto essa abordagem reduziria o número de dados disponíveis. \n",
    "Outra alternativa seria preencher os valores ausentes com um valor qualquer, mas ao fazer isso podemos inserir ruídos e distorções ao nosso conjunto de dados. Portanto, devemos sempre pensar no contexto do problema antes de inserir valores nos conjuntos."
   ]
  },
  {
   "cell_type": "markdown",
   "id": "6b1196f5",
   "metadata": {},
   "source": [
    "### Embarked\n",
    "\n",
    "A Coluna Embarked armazena informações sobre o local de embarque dos passageiros.\n",
    "Essa coluna possui apenas 2 valores ausentes, ambos no conjunto de treino. \n",
    "Portanto, a distorção causada pela inserção de um valor aleatório é baixa o suficiente para utilizarmos este método, sem comprometer o conjunto de dados."
   ]
  },
  {
   "cell_type": "code",
   "execution_count": 7,
   "id": "3f355d5d",
   "metadata": {},
   "outputs": [
    {
     "data": {
      "text/html": [
       "<div>\n",
       "<style scoped>\n",
       "    .dataframe tbody tr th:only-of-type {\n",
       "        vertical-align: middle;\n",
       "    }\n",
       "\n",
       "    .dataframe tbody tr th {\n",
       "        vertical-align: top;\n",
       "    }\n",
       "\n",
       "    .dataframe thead th {\n",
       "        text-align: right;\n",
       "    }\n",
       "</style>\n",
       "<table border=\"1\" class=\"dataframe\">\n",
       "  <thead>\n",
       "    <tr style=\"text-align: right;\">\n",
       "      <th></th>\n",
       "      <th>PassengerId</th>\n",
       "      <th>Survived</th>\n",
       "      <th>Pclass</th>\n",
       "      <th>Name</th>\n",
       "      <th>Sex</th>\n",
       "      <th>Age</th>\n",
       "      <th>SibSp</th>\n",
       "      <th>Parch</th>\n",
       "      <th>Ticket</th>\n",
       "      <th>Fare</th>\n",
       "      <th>Cabin</th>\n",
       "      <th>Embarked</th>\n",
       "    </tr>\n",
       "  </thead>\n",
       "  <tbody>\n",
       "    <tr>\n",
       "      <th>61</th>\n",
       "      <td>62</td>\n",
       "      <td>1</td>\n",
       "      <td>1</td>\n",
       "      <td>Icard, Miss. Amelie</td>\n",
       "      <td>female</td>\n",
       "      <td>38.0</td>\n",
       "      <td>0</td>\n",
       "      <td>0</td>\n",
       "      <td>113572</td>\n",
       "      <td>80.0</td>\n",
       "      <td>B28</td>\n",
       "      <td>NaN</td>\n",
       "    </tr>\n",
       "    <tr>\n",
       "      <th>829</th>\n",
       "      <td>830</td>\n",
       "      <td>1</td>\n",
       "      <td>1</td>\n",
       "      <td>Stone, Mrs. George Nelson (Martha Evelyn)</td>\n",
       "      <td>female</td>\n",
       "      <td>62.0</td>\n",
       "      <td>0</td>\n",
       "      <td>0</td>\n",
       "      <td>113572</td>\n",
       "      <td>80.0</td>\n",
       "      <td>B28</td>\n",
       "      <td>NaN</td>\n",
       "    </tr>\n",
       "  </tbody>\n",
       "</table>\n",
       "</div>"
      ],
      "text/plain": [
       "     PassengerId  Survived  Pclass                                       Name  \\\n",
       "61            62         1       1                        Icard, Miss. Amelie   \n",
       "829          830         1       1  Stone, Mrs. George Nelson (Martha Evelyn)   \n",
       "\n",
       "        Sex   Age  SibSp  Parch  Ticket  Fare Cabin Embarked  \n",
       "61   female  38.0      0      0  113572  80.0   B28      NaN  \n",
       "829  female  62.0      0      0  113572  80.0   B28      NaN  "
      ]
     },
     "execution_count": 7,
     "metadata": {},
     "output_type": "execute_result"
    }
   ],
   "source": [
    "train_data_raw[train_data_raw['Embarked'].isnull()]"
   ]
  },
  {
   "cell_type": "code",
   "execution_count": 8,
   "id": "00b6f718",
   "metadata": {},
   "outputs": [],
   "source": [
    "# Filling The Missing Values In Embarked Column\n",
    "embarked_values = train_data_raw[\"Embarked\"].dropna().unique()\n",
    "train_data_raw[\"Embarked\"] = train_data_raw['Embarked'].fillna(embarked_values[random.randint(0, len(embarked_values))])"
   ]
  },
  {
   "cell_type": "markdown",
   "id": "a2b14e49",
   "metadata": {},
   "source": [
    "### Fare\n",
    "\n",
    "A Coluna Fare armazena o valor da tarifa pago por cada passageiro.\n",
    "Existe apenas um passageiro com o valor da tarifa ausente.\n",
    "Como a tarifa é um valor tabelado, podemos usar um passageiro semelhante para aferir o valor da tarifa."
   ]
  },
  {
   "cell_type": "code",
   "execution_count": 9,
   "id": "a57f62cc",
   "metadata": {},
   "outputs": [
    {
     "data": {
      "text/html": [
       "<div>\n",
       "<style scoped>\n",
       "    .dataframe tbody tr th:only-of-type {\n",
       "        vertical-align: middle;\n",
       "    }\n",
       "\n",
       "    .dataframe tbody tr th {\n",
       "        vertical-align: top;\n",
       "    }\n",
       "\n",
       "    .dataframe thead th {\n",
       "        text-align: right;\n",
       "    }\n",
       "</style>\n",
       "<table border=\"1\" class=\"dataframe\">\n",
       "  <thead>\n",
       "    <tr style=\"text-align: right;\">\n",
       "      <th></th>\n",
       "      <th>PassengerId</th>\n",
       "      <th>Pclass</th>\n",
       "      <th>Name</th>\n",
       "      <th>Sex</th>\n",
       "      <th>Age</th>\n",
       "      <th>SibSp</th>\n",
       "      <th>Parch</th>\n",
       "      <th>Ticket</th>\n",
       "      <th>Fare</th>\n",
       "      <th>Cabin</th>\n",
       "      <th>Embarked</th>\n",
       "    </tr>\n",
       "  </thead>\n",
       "  <tbody>\n",
       "    <tr>\n",
       "      <th>152</th>\n",
       "      <td>1044</td>\n",
       "      <td>3</td>\n",
       "      <td>Storey, Mr. Thomas</td>\n",
       "      <td>male</td>\n",
       "      <td>60.5</td>\n",
       "      <td>0</td>\n",
       "      <td>0</td>\n",
       "      <td>3701</td>\n",
       "      <td>NaN</td>\n",
       "      <td>NaN</td>\n",
       "      <td>S</td>\n",
       "    </tr>\n",
       "  </tbody>\n",
       "</table>\n",
       "</div>"
      ],
      "text/plain": [
       "     PassengerId  Pclass                Name   Sex   Age  SibSp  Parch Ticket  \\\n",
       "152         1044       3  Storey, Mr. Thomas  male  60.5      0      0   3701   \n",
       "\n",
       "     Fare Cabin Embarked  \n",
       "152   NaN   NaN        S  "
      ]
     },
     "execution_count": 9,
     "metadata": {},
     "output_type": "execute_result"
    }
   ],
   "source": [
    "test_data_raw[test_data_raw[\"Fare\"].isnull()]"
   ]
  },
  {
   "cell_type": "code",
   "execution_count": 10,
   "id": "73f605c4",
   "metadata": {},
   "outputs": [],
   "source": [
    "# Filling The Missing Value In Fare With The Median Fare of passenger alone in 3rd Class  \n",
    "fare = test_data_raw.groupby([\"Pclass\", \"Parch\", \"SibSp\"]).Fare.median()[3][0][0]\n",
    "test_data_raw[\"Fare\"] = test_data_raw[\"Fare\"].fillna(fare)"
   ]
  },
  {
   "cell_type": "markdown",
   "id": "0c3e887a",
   "metadata": {},
   "source": [
    "### Age\n",
    "\n",
    "A coluna Age armazena a idade de cada passageiro. \n",
    "Podemos usar a mediana ou a média de idade de todos os passageiros para preencher os valores ausentes."
   ]
  },
  {
   "cell_type": "code",
   "execution_count": 11,
   "id": "317416d8",
   "metadata": {},
   "outputs": [
    {
     "name": "stdout",
     "output_type": "stream",
     "text": [
      "Median Age: 28.0\n",
      "Mean Age: 29.7\n"
     ]
    }
   ],
   "source": [
    "median = train_data_raw[\"Age\"].median()\n",
    "print(f\"Median Age: {median}\")\n",
    "mean = round(train_data_raw[\"Age\"].sum()/train_data_raw[\"Age\"].count(), 1)\n",
    "print(f\"Mean Age: {mean}\")"
   ]
  },
  {
   "cell_type": "markdown",
   "id": "47bbe1c7",
   "metadata": {},
   "source": [
    "No entanto, se observarmos no histograma a seguir, é possível notar que a média e mediana varia conforme a idade e classe do passageiro. Portanto, a melhor opção seria inserir a mediana da idade para cada sexo por classe de passageiro."
   ]
  },
  {
   "cell_type": "code",
   "execution_count": 12,
   "id": "fd70ec7e",
   "metadata": {},
   "outputs": [
    {
     "data": {
      "image/png": "[encoded data removed]",
      "text/plain": [
       "<Figure size 432x288 with 1 Axes>"
      ]
     },
     "metadata": {},
     "output_type": "display_data"
    }
   ],
   "source": [
    "sns.histplot(data=train_data_raw, x=\"Age\", hue=\"Pclass\")\n",
    "plt.show()"
   ]
  },
  {
   "cell_type": "code",
   "execution_count": 13,
   "id": "dac2763f",
   "metadata": {},
   "outputs": [
    {
     "data": {
      "image/png": "[encoded data removed]",
      "text/plain": [
       "<Figure size 432x288 with 1 Axes>"
      ]
     },
     "metadata": {},
     "output_type": "display_data"
    }
   ],
   "source": [
    "sns.histplot(data=train_data_raw, x=\"Age\", hue=\"Sex\")\n",
    "plt.show()"
   ]
  },
  {
   "cell_type": "code",
   "execution_count": 14,
   "id": "84b8debe",
   "metadata": {},
   "outputs": [
    {
     "name": "stdout",
     "output_type": "stream",
     "text": [
      "PClass: 1 \tSex: Female \tMedian Age: 35.0\n",
      "PClass: 1 \tSex: Male \tMedian Age: 40.0\n",
      "PClass: 2 \tSex: Female \tMedian Age: 28.0\n",
      "PClass: 2 \tSex: Male \tMedian Age: 30.0\n",
      "PClass: 3 \tSex: Female \tMedian Age: 21.5\n",
      "PClass: 3 \tSex: Male \tMedian Age: 25.0\n"
     ]
    }
   ],
   "source": [
    "age_by_pclass_and_sex = train_data_raw.groupby([\"Sex\", \"Pclass\"]).median()['Age']\n",
    "\n",
    "for pclass in range(1, 4):\n",
    "    for sex in [\"female\", \"male\"]:\n",
    "        print(f\"PClass: {pclass} \\tSex: {sex.capitalize()} \\tMedian Age: {age_by_pclass_and_sex[sex][pclass]}\")"
   ]
  },
  {
   "cell_type": "code",
   "execution_count": 15,
   "id": "b260538c",
   "metadata": {},
   "outputs": [],
   "source": [
    "# Filling The Missing Values In Age Column\n",
    "train_data_raw[\"Age\"] = train_data_raw.groupby([\"Sex\", \"Pclass\"])[\"Age\"].apply(lambda x: x.fillna(x.median()))\n",
    "test_data_raw[\"Age\"] = test_data_raw.groupby([\"Sex\", \"Pclass\"])[\"Age\"].apply(lambda x: x.fillna(x.median()))"
   ]
  },
  {
   "cell_type": "markdown",
   "id": "960e15bb",
   "metadata": {},
   "source": [
    "### Cabin\n",
    "\n",
    "A coluna Cabine é um dado complexo, pois uma parte significativa da informação está faltando. \n",
    "Além disso, as cabines são os decks em que os quartos estão localizados, e esses quartos eram separados principalmente por classe. Portanto, podemos remover a coluna Cabin, já que ela está fortemente relacionada a classe dos passageiros."
   ]
  },
  {
   "cell_type": "code",
   "execution_count": 16,
   "id": "ccd6bead",
   "metadata": {},
   "outputs": [],
   "source": [
    "train_data_raw = train_data_raw.drop(\"Cabin\", axis=1)\n",
    "test_data_raw = test_data_raw.drop(\"Cabin\", axis=1)"
   ]
  },
  {
   "cell_type": "markdown",
   "id": "49b3aa18",
   "metadata": {},
   "source": [
    "Após a limpeza dos conjuntos, não encontramos mais valores ausentes. Agora podemos começar a explorar o nosso conjunto de dados."
   ]
  },
  {
   "cell_type": "code",
   "execution_count": 17,
   "id": "394779d9",
   "metadata": {},
   "outputs": [
    {
     "name": "stdout",
     "output_type": "stream",
     "text": [
      "<class 'pandas.core.frame.DataFrame'>\n",
      "RangeIndex: 891 entries, 0 to 890\n",
      "Data columns (total 11 columns):\n",
      " #   Column       Non-Null Count  Dtype  \n",
      "---  ------       --------------  -----  \n",
      " 0   PassengerId  891 non-null    int64  \n",
      " 1   Survived     891 non-null    int64  \n",
      " 2   Pclass       891 non-null    int64  \n",
      " 3   Name         891 non-null    object \n",
      " 4   Sex          891 non-null    object \n",
      " 5   Age          891 non-null    float64\n",
      " 6   SibSp        891 non-null    int64  \n",
      " 7   Parch        891 non-null    int64  \n",
      " 8   Ticket       891 non-null    object \n",
      " 9   Fare         891 non-null    float64\n",
      " 10  Embarked     891 non-null    object \n",
      "dtypes: float64(2), int64(5), object(4)\n",
      "memory usage: 76.7+ KB\n"
     ]
    }
   ],
   "source": [
    "train_data_raw.info()"
   ]
  },
  {
   "cell_type": "code",
   "execution_count": 18,
   "id": "71eadd5b",
   "metadata": {},
   "outputs": [
    {
     "name": "stdout",
     "output_type": "stream",
     "text": [
      "<class 'pandas.core.frame.DataFrame'>\n",
      "RangeIndex: 418 entries, 0 to 417\n",
      "Data columns (total 10 columns):\n",
      " #   Column       Non-Null Count  Dtype  \n",
      "---  ------       --------------  -----  \n",
      " 0   PassengerId  418 non-null    int64  \n",
      " 1   Pclass       418 non-null    int64  \n",
      " 2   Name         418 non-null    object \n",
      " 3   Sex          418 non-null    object \n",
      " 4   Age          418 non-null    float64\n",
      " 5   SibSp        418 non-null    int64  \n",
      " 6   Parch        418 non-null    int64  \n",
      " 7   Ticket       418 non-null    object \n",
      " 8   Fare         418 non-null    float64\n",
      " 9   Embarked     418 non-null    object \n",
      "dtypes: float64(2), int64(4), object(4)\n",
      "memory usage: 32.8+ KB\n"
     ]
    }
   ],
   "source": [
    "test_data_raw.info()"
   ]
  },
  {
   "cell_type": "markdown",
   "id": "4515e86e",
   "metadata": {},
   "source": [
    "## Passengers  Survival Distribution"
   ]
  },
  {
   "cell_type": "code",
   "execution_count": 25,
   "id": "ca6d08bb",
   "metadata": {},
   "outputs": [
    {
     "name": "stdout",
     "output_type": "stream",
     "text": [
      "Survived: 38.38% of the training set...\n",
      "Not Survived: 61.62% of the training set...\n"
     ]
    }
   ],
   "source": [
    "survived_data = train_data_raw[\"Survived\"].value_counts()\n",
    "\n",
    "not_survived = round(survived_data[0] / train_data_raw.shape[0] * 100, 2)\n",
    "survived = round(survived_data[1] / train_data_raw.shape[0] * 100, 2)\n",
    "\n",
    "print(f\"Survived: {survived} % of the training set...\")\n",
    "print(f\"Not Survived: {not_survived} % of the training set...\")"
   ]
  },
  {
   "cell_type": "code",
   "execution_count": 36,
   "id": "cba80b31",
   "metadata": {},
   "outputs": [
    {
     "data": {
      "image/png": "[encoded data removed]",
      "text/plain": [
       "<Figure size 864x432 with 1 Axes>"
      ]
     },
     "metadata": {},
     "output_type": "display_data"
    }
   ],
   "source": [
    "plt.figure(figsize=(12, 6))\n",
    "sns.countplot(train_data_raw[\"Survived\"])\n",
    "\n",
    "plt.xlabel(\"% Survival\", size=15, labelpad=15)\n",
    "plt.ylabel(\"Number of Passengers\", size=15, labelpad=15)\n",
    "hues = [f\"{not_survived} % Not Survived\", f\"{survived} % Survived\"]\n",
    "plt.xticks((0, 1), hues)\n",
    "plt.tick_params(axis='x', labelsize=13)\n",
    "plt.tick_params(axis='y', labelsize=13)\n",
    "\n",
    "plt.title(\"Survival Distribution - Training Set\", size=15, y=1.0)\n",
    "\n",
    "plt.show()"
   ]
  },
  {
   "cell_type": "code",
   "execution_count": 67,
   "id": "cfaf51bd",
   "metadata": {},
   "outputs": [
    {
     "data": {
      "text/html": [
       "<div>\n",
       "<style scoped>\n",
       "    .dataframe tbody tr th:only-of-type {\n",
       "        vertical-align: middle;\n",
       "    }\n",
       "\n",
       "    .dataframe tbody tr th {\n",
       "        vertical-align: top;\n",
       "    }\n",
       "\n",
       "    .dataframe thead th {\n",
       "        text-align: right;\n",
       "    }\n",
       "</style>\n",
       "<table border=\"1\" class=\"dataframe\">\n",
       "  <thead>\n",
       "    <tr style=\"text-align: right;\">\n",
       "      <th></th>\n",
       "      <th>Survived</th>\n",
       "      <th>Sex</th>\n",
       "      <th>Passengers</th>\n",
       "    </tr>\n",
       "  </thead>\n",
       "  <tbody>\n",
       "    <tr>\n",
       "      <th>0</th>\n",
       "      <td>0</td>\n",
       "      <td>female</td>\n",
       "      <td>81</td>\n",
       "    </tr>\n",
       "    <tr>\n",
       "      <th>1</th>\n",
       "      <td>0</td>\n",
       "      <td>male</td>\n",
       "      <td>468</td>\n",
       "    </tr>\n",
       "    <tr>\n",
       "      <th>2</th>\n",
       "      <td>1</td>\n",
       "      <td>female</td>\n",
       "      <td>233</td>\n",
       "    </tr>\n",
       "    <tr>\n",
       "      <th>3</th>\n",
       "      <td>1</td>\n",
       "      <td>male</td>\n",
       "      <td>109</td>\n",
       "    </tr>\n",
       "  </tbody>\n",
       "</table>\n",
       "</div>"
      ],
      "text/plain": [
       "   Survived     Sex  Passengers\n",
       "0         0  female          81\n",
       "1         0    male         468\n",
       "2         1  female         233\n",
       "3         1    male         109"
      ]
     },
     "execution_count": 67,
     "metadata": {},
     "output_type": "execute_result"
    }
   ],
   "source": [
    "df = train_data_raw.groupby([\"Survived\",\"Sex\"]).count()[\"PassengerId\"].reset_index()\n",
    "df.columns = [\"Survived\", \"Sex\", \"Passengers\"]\n",
    "df"
   ]
  },
  {
   "cell_type": "code",
   "execution_count": 70,
   "id": "e5d67000",
   "metadata": {},
   "outputs": [
    {
     "data": {
      "image/png": "[encoded data removed]",
      "text/plain": [
       "<Figure size 864x432 with 1 Axes>"
      ]
     },
     "metadata": {},
     "output_type": "display_data"
    }
   ],
   "source": [
    "plt.figure(figsize=(12, 6))\n",
    "\n",
    "sns.barplot(data=df, x=\"Survived\", y=\"Passengers\", hue=\"Sex\")\n",
    "\n",
    "plt.xlabel(\"Survival\", size=15, labelpad=15)\n",
    "plt.ylabel(\"Number of Passengers\", size=15, labelpad=15)\n",
    "hues = [\"Not Survived\", \"Survived\"]\n",
    "plt.xticks((0, 1), hues)\n",
    "plt.tick_params(axis='x', labelsize=13)\n",
    "plt.tick_params(axis='y', labelsize=13)\n",
    "\n",
    "plt.title(\"Survival Count By Sex - Training Set\", size=15, y=1.0)\n",
    "\n",
    "plt.show()\n"
   ]
  },
  {
   "cell_type": "code",
   "execution_count": null,
   "id": "754a846d",
   "metadata": {},
   "outputs": [],
   "source": []
  }
 ],
 "metadata": {
  "kernelspec": {
   "display_name": "Python 3 (ipykernel)",
   "language": "python",
   "name": "python3"
  },
  "language_info": {
   "codemirror_mode": {
    "name": "ipython",
    "version": 3
   },
   "file_extension": ".py",
   "mimetype": "text/x-python",
   "name": "python",
   "nbconvert_exporter": "python",
   "pygments_lexer": "ipython3",
   "version": "3.9.12"
  }
 },
 "nbformat": 4,
 "nbformat_minor": 5
}
